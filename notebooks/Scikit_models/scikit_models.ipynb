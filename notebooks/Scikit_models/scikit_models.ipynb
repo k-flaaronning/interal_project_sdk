{
 "cells": [
  {
   "cell_type": "code",
   "execution_count": 10,
   "id": "e1581e70",
   "metadata": {},
   "outputs": [
    {
     "name": "stderr",
     "output_type": "stream",
     "text": [
      "Using TensorFlow backend.\n"
     ]
    }
   ],
   "source": [
    "%matplotlib inline\n",
    "import pandas as pd\n",
    "import numpy as np\n",
    "import matplotlib.pyplot as plt\n",
    "\n",
    "from sklearn.metrics import mean_squared_error, r2_score\n",
    "from sklearn.preprocessing import MinMaxScaler\n",
    "\n",
    "from sklearn.linear_model import LinearRegression\n",
    "from sklearn.ensemble import RandomForestRegressor\n",
    "from sklearn import svm, tree\n",
    "\n"
   ]
  },
  {
   "cell_type": "code",
   "execution_count": 2,
   "id": "f657925c",
   "metadata": {},
   "outputs": [],
   "source": [
    "#Import data and give column names\n",
    "\n",
    "train = pd.read_csv('../../data/feature_selected_train_FD001.csv', sep=',', header=0, engine='python')\n",
    "test = pd.read_csv('../../data/feature_selected_test_FD001.csv', sep=',', header=0, engine='python')\n",
    "y_test = pd.read_csv('../../data/RUL_FD001.csv', sep=',', header=0,  engine='python')\n",
    "\n",
    "index_names = train.columns[[0, 1]]\n",
    "setting_names = train.columns[[2]]\n",
    "sensor_names = train.drop(index_names.union(setting_names), axis = 1).columns # Find something better than union!!\n",
    "scale_columns = sensor_names\n",
    "keep_columns = scale_columns.union(index_names[[1]])"
   ]
  },
  {
   "cell_type": "code",
   "execution_count": 3,
   "id": "63ecc43d",
   "metadata": {},
   "outputs": [],
   "source": [
    "def scale_data(train, test, columns):\n",
    "    sc = MinMaxScaler()\n",
    "    scaled_train = train.copy()\n",
    "    scaled_test = test.copy()\n",
    "    scaled_train[columns] = pd.DataFrame(sc.fit_transform(scaled_train[columns]))\n",
    "    scaled_test[columns] = pd.DataFrame(sc.transform(scaled_test[columns]))\n",
    "    return scaled_train, scaled_test\n",
    "\n",
    "def add_remaining_useful_life(df):\n",
    "    grouped_by_unit = df.groupby(by=\"unit_no\")\n",
    "    max_cycle = grouped_by_unit[\"time_cycles\"].max()\n",
    "    \n",
    "    result_frame = df.merge(max_cycle.to_frame(name='max_cycle'), left_on='unit_no', right_index=True)\n",
    "    remaining_useful_life = result_frame[\"max_cycle\"] - result_frame[\"time_cycles\"]\n",
    "    result_frame[\"RUL\"] = remaining_useful_life\n",
    "    \n",
    "    result_frame = result_frame.drop(\"max_cycle\", axis=1)\n",
    "    return result_frame\n",
    "def plot_loss(history):\n",
    "    plt.figure(figsize=(13,5))\n",
    "    plt.plot(range(1, len(history.history['loss'])+1), history.history['loss'], label='train')\n",
    "    plt.plot(range(1, len(history.history['val_loss'])+1), history.history['val_loss'], label='validate')\n",
    "    plt.xlabel('Epochs')\n",
    "    plt.ylabel('Loss')\n",
    "    plt.legend()\n",
    "    plt.show()\n",
    "\n",
    "def evaluate(y_true, y_hat, label='test'):\n",
    "    mse = mean_squared_error(y_true, y_hat)\n",
    "    rmse = np.sqrt(mse)\n",
    "    variance = r2_score(y_true, y_hat)\n",
    "    print('{} set RMSE:{}, R2:{}'.format(label, rmse, variance))\n",
    "    return rmse, variance\n",
    "    \n",
    "def plot_predictions(y_true, y_predicted):\n",
    "    plt.figure(figsize=(13,5))\n",
    "    plt.plot(y_true, label='true')\n",
    "    plt.plot(y_predicted, label='predicted')\n",
    "    plt.xlabel('Predictions')\n",
    "    plt.ylabel('Predicted Values')\n",
    "    plt.legend()\n",
    "    plt.show()"
   ]
  },
  {
   "cell_type": "code",
   "execution_count": 4,
   "id": "bdf14d97",
   "metadata": {},
   "outputs": [],
   "source": [
    "x_train = add_remaining_useful_life(train)\n",
    "y_train = x_train.pop('RUL')\n",
    "x_test = test.groupby(by=\"unit_no\").last().reset_index()\n",
    "x_train_scaled, x_test_scaled = scale_data(x_train, x_test, scale_columns)"
   ]
  },
  {
   "cell_type": "code",
   "execution_count": 8,
   "id": "f64ec262",
   "metadata": {},
   "outputs": [
    {
     "name": "stdout",
     "output_type": "stream",
     "text": [
      "Linear Regression\n",
      "train set RMSE:39.59310521746384, R2:0.669583736222076\n",
      "test set RMSE:31.588573847431114, R2:0.4221694575464129\n",
      "SVM\n",
      "train set RMSE:38.951113872679606, R2:0.6802120822951863\n",
      "test set RMSE:27.744628683468143, R2:0.5542428792634235\n",
      "Random Forest\n",
      "train set RMSE:25.44657812868412, R2:0.8635162119566338\n",
      "test set RMSE:25.381584304690122, R2:0.6269406666165807\n"
     ]
    }
   ],
   "source": [
    "models = [\n",
    "          ('Linear Regression', LinearRegression()),  \n",
    "          ('SVM', svm.SVR(kernel = 'poly', gamma = 0.0001, C = 10, epsilon= 0.5)),\n",
    "          ('Random Forest', RandomForestRegressor(n_estimators=100, max_features=\"sqrt\", random_state=0,\n",
    "                           min_samples_leaf=11, min_impurity_decrease=0.0, \n",
    "                           max_depth=15, ccp_alpha=0.125))\n",
    "         ]\n",
    "results = []\n",
    "names = []\n",
    "dfs = []\n",
    "for name, model in models:\n",
    "    \n",
    "    print(name)\n",
    "    clf = model.fit(x_train_scaled, y_train)\n",
    "    y_hat_train = clf.predict(x_train_scaled)\n",
    "    rmse_train, variance_train = evaluate(y_train, y_hat_train, 'train')\n",
    "    \n",
    "    y_hat_test = clf.predict(x_test_scaled)\n",
    "    rmse_test, variance_test = evaluate(y_test, y_hat_test)\n",
    "    \n",
    "    metrics = [rmse_train, variance_train, rmse_test, variance_test]\n",
    "    results.append(metrics)\n",
    "    \n",
    "    names.append(name)\n",
    "    \n",
    "result_df = pd.DataFrame(results, columns = ['RMSE Train', 'R2 Train', 'RMSE Test', 'R2 Test'])\n",
    "result_df['Model'] = names"
   ]
  },
  {
   "cell_type": "code",
   "execution_count": 9,
   "id": "c0818016",
   "metadata": {},
   "outputs": [
    {
     "data": {
      "text/html": [
       "<div>\n",
       "<style scoped>\n",
       "    .dataframe tbody tr th:only-of-type {\n",
       "        vertical-align: middle;\n",
       "    }\n",
       "\n",
       "    .dataframe tbody tr th {\n",
       "        vertical-align: top;\n",
       "    }\n",
       "\n",
       "    .dataframe thead th {\n",
       "        text-align: right;\n",
       "    }\n",
       "</style>\n",
       "<table border=\"1\" class=\"dataframe\">\n",
       "  <thead>\n",
       "    <tr style=\"text-align: right;\">\n",
       "      <th></th>\n",
       "      <th>RMSE Train</th>\n",
       "      <th>R2 Train</th>\n",
       "      <th>RMSE Test</th>\n",
       "      <th>R2 Test</th>\n",
       "      <th>Model</th>\n",
       "    </tr>\n",
       "  </thead>\n",
       "  <tbody>\n",
       "    <tr>\n",
       "      <th>0</th>\n",
       "      <td>39.593105</td>\n",
       "      <td>0.669584</td>\n",
       "      <td>31.588574</td>\n",
       "      <td>0.422169</td>\n",
       "      <td>Linear Regression</td>\n",
       "    </tr>\n",
       "    <tr>\n",
       "      <th>1</th>\n",
       "      <td>38.951114</td>\n",
       "      <td>0.680212</td>\n",
       "      <td>27.744629</td>\n",
       "      <td>0.554243</td>\n",
       "      <td>SVM</td>\n",
       "    </tr>\n",
       "    <tr>\n",
       "      <th>2</th>\n",
       "      <td>25.446578</td>\n",
       "      <td>0.863516</td>\n",
       "      <td>25.381584</td>\n",
       "      <td>0.626941</td>\n",
       "      <td>Random Forest</td>\n",
       "    </tr>\n",
       "  </tbody>\n",
       "</table>\n",
       "</div>"
      ],
      "text/plain": [
       "   RMSE Train  R2 Train  RMSE Test   R2 Test              Model\n",
       "0   39.593105  0.669584  31.588574  0.422169  Linear Regression\n",
       "1   38.951114  0.680212  27.744629  0.554243                SVM\n",
       "2   25.446578  0.863516  25.381584  0.626941      Random Forest"
      ]
     },
     "execution_count": 9,
     "metadata": {},
     "output_type": "execute_result"
    }
   ],
   "source": [
    "result_df.head()"
   ]
  },
  {
   "cell_type": "code",
   "execution_count": null,
   "id": "24c7d78f",
   "metadata": {},
   "outputs": [],
   "source": []
  }
 ],
 "metadata": {
  "kernelspec": {
   "display_name": "Python 3",
   "language": "python",
   "name": "python3"
  },
  "language_info": {
   "codemirror_mode": {
    "name": "ipython",
    "version": 3
   },
   "file_extension": ".py",
   "mimetype": "text/x-python",
   "name": "python",
   "nbconvert_exporter": "python",
   "pygments_lexer": "ipython3",
   "version": "3.6.13"
  }
 },
 "nbformat": 4,
 "nbformat_minor": 5
}
