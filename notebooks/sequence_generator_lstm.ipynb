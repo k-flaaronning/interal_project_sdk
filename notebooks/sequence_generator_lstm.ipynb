{
 "cells": [
  {
   "cell_type": "markdown",
   "id": "80ec18ab",
   "metadata": {},
   "source": [
    "# Sequence Generator for LSTM"
   ]
  },
  {
   "cell_type": "code",
   "execution_count": 1,
   "id": "a0e0164a",
   "metadata": {},
   "outputs": [],
   "source": [
    "%matplotlib inline\n",
    "import pandas as pd\n",
    "import numpy as np"
   ]
  },
  {
   "cell_type": "code",
   "execution_count": 2,
   "id": "750c9c21",
   "metadata": {},
   "outputs": [
    {
     "name": "stdout",
     "output_type": "stream",
     "text": [
      "[1 1 1 1 1 1 1 1 1 1 2 2 2 2 2 2 2 2 2 2]\n",
      "[ 1  2  3  4  5  6  7  8  9 10 11 12 13 14 15 16 17 18 19 20]\n",
      "[101 102 103 104 105 106 107 108 109 110 111 112 113 114 115 116 117 118\n",
      " 119 120]\n",
      "[[  1   1 101]\n",
      " [  1   2 102]\n",
      " [  1   3 103]\n",
      " [  1   4 104]\n",
      " [  1   5 105]\n",
      " [  1   6 106]\n",
      " [  1   7 107]\n",
      " [  1   8 108]\n",
      " [  1   9 109]\n",
      " [  1  10 110]\n",
      " [  2  11 111]\n",
      " [  2  12 112]\n",
      " [  2  13 113]\n",
      " [  2  14 114]\n",
      " [  2  15 115]\n",
      " [  2  16 116]\n",
      " [  2  17 117]\n",
      " [  2  18 118]\n",
      " [  2  19 119]\n",
      " [  2  20 120]]\n",
      "(20, 3)\n"
     ]
    }
   ],
   "source": [
    "unit = np.array([1]*10 + [2]*10)\n",
    "x = np.arange(1, 21)\n",
    "y = np.arange(101, 121)\n",
    "data = np.stack((unit, x, y)).T\n",
    "print(unit)\n",
    "print(x)\n",
    "print(y)\n",
    "print(data)\n",
    "print(data.shape)"
   ]
  },
  {
   "cell_type": "code",
   "execution_count": 3,
   "id": "2c4d7517",
   "metadata": {},
   "outputs": [
    {
     "data": {
      "text/html": [
       "<div>\n",
       "<style scoped>\n",
       "    .dataframe tbody tr th:only-of-type {\n",
       "        vertical-align: middle;\n",
       "    }\n",
       "\n",
       "    .dataframe tbody tr th {\n",
       "        vertical-align: top;\n",
       "    }\n",
       "\n",
       "    .dataframe thead th {\n",
       "        text-align: right;\n",
       "    }\n",
       "</style>\n",
       "<table border=\"1\" class=\"dataframe\">\n",
       "  <thead>\n",
       "    <tr style=\"text-align: right;\">\n",
       "      <th></th>\n",
       "      <th>unit</th>\n",
       "      <th>x</th>\n",
       "      <th>y</th>\n",
       "    </tr>\n",
       "  </thead>\n",
       "  <tbody>\n",
       "    <tr>\n",
       "      <th>0</th>\n",
       "      <td>1</td>\n",
       "      <td>1</td>\n",
       "      <td>101</td>\n",
       "    </tr>\n",
       "    <tr>\n",
       "      <th>1</th>\n",
       "      <td>1</td>\n",
       "      <td>2</td>\n",
       "      <td>102</td>\n",
       "    </tr>\n",
       "    <tr>\n",
       "      <th>2</th>\n",
       "      <td>1</td>\n",
       "      <td>3</td>\n",
       "      <td>103</td>\n",
       "    </tr>\n",
       "    <tr>\n",
       "      <th>3</th>\n",
       "      <td>1</td>\n",
       "      <td>4</td>\n",
       "      <td>104</td>\n",
       "    </tr>\n",
       "    <tr>\n",
       "      <th>4</th>\n",
       "      <td>1</td>\n",
       "      <td>5</td>\n",
       "      <td>105</td>\n",
       "    </tr>\n",
       "  </tbody>\n",
       "</table>\n",
       "</div>"
      ],
      "text/plain": [
       "   unit  x    y\n",
       "0     1  1  101\n",
       "1     1  2  102\n",
       "2     1  3  103\n",
       "3     1  4  104\n",
       "4     1  5  105"
      ]
     },
     "execution_count": 3,
     "metadata": {},
     "output_type": "execute_result"
    }
   ],
   "source": [
    "data = pd.DataFrame(data, columns = ['unit', 'x', 'y'])\n",
    "data.head()"
   ]
  },
  {
   "cell_type": "code",
   "execution_count": 4,
   "id": "c12d5fd2",
   "metadata": {},
   "outputs": [],
   "source": [
    "#Generator to create sequences for the training data\n",
    "#OBS! Not applicable for multiple units/groups\n",
    "def generator_training_data(df, sequence_length, columns):\n",
    "    data = df[columns].values\n",
    "    num_elements = data.shape[0]\n",
    "    for start, stop in zip(range(0, num_elements-(sequence_length-1)), range(sequence_length, num_elements+1)):\n",
    "        yield data[start:stop, :]\n",
    "        "
   ]
  },
  {
   "cell_type": "code",
   "execution_count": 5,
   "id": "1a2f75a0",
   "metadata": {},
   "outputs": [
    {
     "name": "stdout",
     "output_type": "stream",
     "text": [
      "((0, 15), (1, 16), (2, 17), (3, 18))\n"
     ]
    }
   ],
   "source": [
    "x = zip(range(0,4), range(15, 21))\n",
    "print(tuple(x))\n",
    "for y, z in x:\n",
    "    print(y, z)"
   ]
  },
  {
   "cell_type": "code",
   "execution_count": 6,
   "id": "0fe3a236",
   "metadata": {},
   "outputs": [
    {
     "data": {
      "text/plain": [
       "[array([[ 1],\n",
       "        [ 2],\n",
       "        [ 3],\n",
       "        [ 4],\n",
       "        [ 5],\n",
       "        [ 6],\n",
       "        [ 7],\n",
       "        [ 8],\n",
       "        [ 9],\n",
       "        [10],\n",
       "        [11],\n",
       "        [12],\n",
       "        [13],\n",
       "        [14],\n",
       "        [15],\n",
       "        [16],\n",
       "        [17],\n",
       "        [18],\n",
       "        [19]]),\n",
       " array([[ 2],\n",
       "        [ 3],\n",
       "        [ 4],\n",
       "        [ 5],\n",
       "        [ 6],\n",
       "        [ 7],\n",
       "        [ 8],\n",
       "        [ 9],\n",
       "        [10],\n",
       "        [11],\n",
       "        [12],\n",
       "        [13],\n",
       "        [14],\n",
       "        [15],\n",
       "        [16],\n",
       "        [17],\n",
       "        [18],\n",
       "        [19],\n",
       "        [20]])]"
      ]
     },
     "execution_count": 6,
     "metadata": {},
     "output_type": "execute_result"
    }
   ],
   "source": [
    "gen = generator_training_data(data, 19, ['x'])\n",
    "list(gen)"
   ]
  },
  {
   "cell_type": "code",
   "execution_count": 7,
   "id": "3df409d0",
   "metadata": {},
   "outputs": [],
   "source": [
    "#Wrapper methods such that the generator_training_data function can be applied to data with multiple units\n",
    "def generator_data_wrapper(df, sequence_length, columns, unit_nos=np.array([])):\n",
    "    if unit_nos.size <= 0:\n",
    "        unit_nos = df['unit'].unique()\n",
    "    #Runs the generator_training_data function for all units\n",
    "    seperate_unit_gen = (list(generator_training_data(df[df['unit']==unit_no], sequence_length, columns))\n",
    "               for unit_no in unit_nos)\n",
    "    #Combine the subsets into a new set of sequences    \n",
    "    combined_units_gen = np.concatenate(list(seperate_unit_gen)).astype(np.float32)\n",
    "    return combined_units_gen"
   ]
  },
  {
   "cell_type": "code",
   "execution_count": 8,
   "id": "9c8506f0",
   "metadata": {},
   "outputs": [
    {
     "data": {
      "text/plain": [
       "[array([[ 1.],\n",
       "        [ 2.],\n",
       "        [ 3.],\n",
       "        [ 4.],\n",
       "        [ 5.],\n",
       "        [ 6.],\n",
       "        [ 7.],\n",
       "        [ 8.],\n",
       "        [ 9.],\n",
       "        [10.]], dtype=float32),\n",
       " array([[11.],\n",
       "        [12.],\n",
       "        [13.],\n",
       "        [14.],\n",
       "        [15.],\n",
       "        [16.],\n",
       "        [17.],\n",
       "        [18.],\n",
       "        [19.],\n",
       "        [20.]], dtype=float32)]"
      ]
     },
     "execution_count": 8,
     "metadata": {},
     "output_type": "execute_result"
    }
   ],
   "source": [
    "gen2 = generator_data_wrapper(data, 10, ['x'])\n",
    "list(gen2)"
   ]
  },
  {
   "cell_type": "code",
   "execution_count": 9,
   "id": "2500c5b6",
   "metadata": {},
   "outputs": [],
   "source": [
    "def generator_labels(df, sequence_length, label_column):\n",
    "    data = df[label_column].values\n",
    "    num_elements = data.shape[0]\n",
    "    #-1 makes sure that the label returned is the last row of the sequence, not the beginning of the next sequence\n",
    "    return data[sequence_length-1:num_elements, :]"
   ]
  },
  {
   "cell_type": "code",
   "execution_count": 10,
   "id": "bfd00703",
   "metadata": {},
   "outputs": [
    {
     "data": {
      "text/plain": [
       "[array([104]),\n",
       " array([105]),\n",
       " array([106]),\n",
       " array([107]),\n",
       " array([108]),\n",
       " array([109]),\n",
       " array([110]),\n",
       " array([111]),\n",
       " array([112]),\n",
       " array([113]),\n",
       " array([114]),\n",
       " array([115]),\n",
       " array([116]),\n",
       " array([117]),\n",
       " array([118]),\n",
       " array([119]),\n",
       " array([120])]"
      ]
     },
     "execution_count": 10,
     "metadata": {},
     "output_type": "execute_result"
    }
   ],
   "source": [
    "label_gen = generator_labels(data, 4, ['y'])\n",
    "list(label_gen)"
   ]
  },
  {
   "cell_type": "code",
   "execution_count": 11,
   "id": "b8a8b801",
   "metadata": {},
   "outputs": [],
   "source": [
    "def generator_label_wrapper(df, sequence_length, label, unit_nos=np.array([])):\n",
    "    if unit_nos.size <= 0:\n",
    "        unit_nos = df['unit'].unique()\n",
    "        \n",
    "    seperate_unit_gen = (generator_labels(df[df['unit']==unit_no], sequence_length, label) \n",
    "                for unit_no in unit_nos)\n",
    "    comined_units_gen = np.concatenate(list(seperate_unit_gen)).astype(np.float32)\n",
    "    return comined_units_gen\n",
    "    "
   ]
  },
  {
   "cell_type": "code",
   "execution_count": 12,
   "id": "e31e134e",
   "metadata": {},
   "outputs": [
    {
     "data": {
      "text/plain": [
       "[array([110.], dtype=float32), array([120.], dtype=float32)]"
      ]
     },
     "execution_count": 12,
     "metadata": {},
     "output_type": "execute_result"
    }
   ],
   "source": [
    "label_gen2 = generator_label_wrapper(data, 10, ['y'])\n",
    "list(label_gen2)"
   ]
  },
  {
   "cell_type": "code",
   "execution_count": null,
   "id": "3ae7b495",
   "metadata": {},
   "outputs": [],
   "source": []
  }
 ],
 "metadata": {
  "kernelspec": {
   "display_name": "Python 3",
   "language": "python",
   "name": "python3"
  },
  "language_info": {
   "codemirror_mode": {
    "name": "ipython",
    "version": 3
   },
   "file_extension": ".py",
   "mimetype": "text/x-python",
   "name": "python",
   "nbconvert_exporter": "python",
   "pygments_lexer": "ipython3",
   "version": "3.6.13"
  }
 },
 "nbformat": 4,
 "nbformat_minor": 5
}
