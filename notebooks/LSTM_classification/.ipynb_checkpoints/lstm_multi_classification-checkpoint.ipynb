{
 "cells": [
  {
   "cell_type": "code",
   "execution_count": 18,
   "id": "41aede27",
   "metadata": {},
   "outputs": [],
   "source": [
    "%matplotlib inline\n",
    "import pandas as pd\n",
    "import numpy as np\n",
    "import matplotlib.pyplot as plt\n",
    "\n",
    "from sklearn.metrics import mean_squared_error, r2_score\n",
    "from sklearn.model_selection import GroupShuffleSplit\n",
    "from sklearn.preprocessing import MinMaxScaler, StandardScaler, QuantileTransformer\n",
    "\n",
    "from keras import Sequential\n",
    "from keras.layers import Dense, Dropout, LSTM, Masking\n",
    "from keras.optimizers import RMSprop, Adam\n",
    "from keras.callbacks import ModelCheckpoint\n",
    "from keras.models import load_model"
   ]
  },
  {
   "cell_type": "code",
   "execution_count": 19,
   "id": "9d3be0db",
   "metadata": {},
   "outputs": [],
   "source": [
    "#Import data and give column names\n",
    "\n",
    "train = pd.read_csv('../../data/feature_selected_train_FD001.csv', sep=',', header=0, engine='python')\n",
    "test = pd.read_csv('../../data/feature_selected_test_FD001.csv', sep=',', header=0, engine='python')\n",
    "y_test = pd.read_csv('../../data/RUL_FD001.txt', sep='\\s', header=None, names = ['RUL'], engine='python')\n",
    "\n",
    "index_names = train.columns[[0, 1]]\n",
    "setting_names = train.columns[[2]]\n",
    "sensor_names = train.drop(index_names.union(setting_names), axis = 1).columns # Find something better than union!!\n",
    "scale_columns = sensor_names\n",
    "keep_columns = scale_columns.union(index_names[[1]])"
   ]
  },
  {
   "cell_type": "code",
   "execution_count": 20,
   "id": "3c75d535",
   "metadata": {},
   "outputs": [],
   "source": [
    "def add_remaining_useful_life(df):\n",
    "    grouped_by_unit = df.groupby(by=\"unit_no\")\n",
    "    max_cycle = grouped_by_unit[\"time_cycles\"].max()\n",
    "    \n",
    "    result_frame = df.merge(max_cycle.to_frame(name='max_cycle'), left_on='unit_no', right_index=True)\n",
    "    remaining_useful_life = result_frame[\"max_cycle\"] - result_frame[\"time_cycles\"]\n",
    "    result_frame[\"RUL\"] = remaining_useful_life\n",
    "    \n",
    "    result_frame = result_frame.drop(\"max_cycle\", axis=1)\n",
    "    return result_frame"
   ]
  },
  {
   "cell_type": "code",
   "execution_count": 21,
   "id": "c53273c3",
   "metadata": {},
   "outputs": [],
   "source": [
    "def scale_data(df, columns):\n",
    "    sc = MinMaxScaler()\n",
    "    scaled_data = df.copy()\n",
    "    scaled_data[columns] = pd.DataFrame(sc.fit_transform(scaled_data[columns]))\n",
    "    return scaled_data"
   ]
  },
  {
   "cell_type": "code",
   "execution_count": 22,
   "id": "86c20e27",
   "metadata": {},
   "outputs": [],
   "source": [
    "def scale_data_quantile(df, columns):\n",
    "    sc = qt = QuantileTransformer(n_quantiles=10, random_state=0)\n",
    "    scaled_data = df.copy()\n",
    "    scaled_data[columns] = pd.DataFrame(qt.fit_transform(scaled_data[columns]))\n",
    "    return scaled_data"
   ]
  },
  {
   "cell_type": "code",
   "execution_count": 23,
   "id": "8c5a843f",
   "metadata": {},
   "outputs": [],
   "source": [
    "def train_val_group_split(x_data, y_data, gss, groups, print_groups=True):\n",
    "    for idx_train, idx_val in gss.split(x_data, y_data, groups=groups):\n",
    "        if print_groups:\n",
    "            print('train_split_engines', x_data.iloc[idx_train]['unit_no'].unique())\n",
    "            print('validate_split_engines', x_data.iloc[idx_val]['unit_no'].unique(), '\\n')\n",
    "\n",
    "        x_train = x_data.iloc[idx_train].copy()\n",
    "        y_train = y_data.iloc[idx_train].copy()\n",
    "        x_val = x_data.iloc[idx_val].copy()\n",
    "        y_val = y_data.iloc[idx_val].copy()\n",
    "    return x_train, y_train, x_val, y_val"
   ]
  },
  {
   "cell_type": "code",
   "execution_count": 24,
   "id": "9c7c076b",
   "metadata": {},
   "outputs": [],
   "source": [
    "def generator_training(df, sequence_length, columns):\n",
    "    data = df[columns].values\n",
    "    num_elements = data.shape[0]\n",
    "    for start, stop in zip(range(0, num_elements-(sequence_length-1)), range(sequence_length, num_elements+1)):\n",
    "        yield data[start:stop, :]\n",
    "        \n",
    "def generator_training_wrapper(df, sequence_length, columns, unit_nos=np.array([])):\n",
    "    if unit_nos.size <= 0:\n",
    "        unit_nos = df['unit_no'].unique()\n",
    "    #Runs the generator_training_data function for all units\n",
    "    seperate_unit_gen = (list(generator_training(df[df['unit_no']==unit_no], sequence_length, columns))\n",
    "               for unit_no in unit_nos)\n",
    "    #Combine the subsets into a new set of sequences    \n",
    "    combined_units_gen = np.concatenate(list(seperate_unit_gen)).astype(np.float32)\n",
    "    return combined_units_gen"
   ]
  },
  {
   "cell_type": "code",
   "execution_count": 25,
   "id": "eb7324c7",
   "metadata": {},
   "outputs": [],
   "source": [
    "def generator_test_data(df, sequence_length, columns, mask_value):\n",
    "    if df.shape[0] < sequence_length:\n",
    "        data_matrix = np.full(shape=(sequence_length, len(columns)), fill_value=mask_value) # padded sequences\n",
    "        idx = data_matrix.shape[0] - df.shape[0]\n",
    "        data_matrix[idx:,:] = df[columns].values\n",
    "    else:\n",
    "        data_matrix = df[columns].values\n",
    "        \n",
    "    stop = num_elements = data_matrix.shape[0]\n",
    "    start = stop - sequence_length\n",
    "    for i in list(range(1)):\n",
    "        yield data_matrix[start:stop, :]\n",
    "\n",
    "def generator_test_wrapper(df, sequence_length, columns, unit_nos=np.array([])):\n",
    "    if unit_nos.size <= 0:\n",
    "        unit_nos = df['unit_no'].unique()\n",
    "    test_gen = (list(generator_test_data(df[df['unit_no']==unit_no], sequence_length, keep_columns, -99.))\n",
    "           for unit_no in unit_nos)   \n",
    "    combined_units_gen = np.concatenate(list(test_gen)).astype(np.float32)\n",
    "    return combined_units_gen"
   ]
  },
  {
   "cell_type": "code",
   "execution_count": 26,
   "id": "7500a5bf",
   "metadata": {},
   "outputs": [],
   "source": [
    "def generator_labels(df, sequence_length, label_column):\n",
    "    data = df[label_column].values\n",
    "    num_elements = data.shape[0]\n",
    "    #-1 makes sure that the label returned is the last row of the sequence, not the beginning of the next sequence\n",
    "    return data[sequence_length-1:num_elements, :]\n",
    "\n",
    "def generator_label_wrapper(df, sequence_length, label, unit_nos=np.array([])):\n",
    "    if unit_nos.size <= 0:\n",
    "        unit_nos = df['unit_no'].unique()\n",
    "        \n",
    "    seperate_unit_gen = (generator_labels(df[df['unit_no']==unit_no], sequence_length, label) \n",
    "                for unit_no in unit_nos)\n",
    "    comined_units_gen = np.concatenate(list(seperate_unit_gen)).astype(np.float32)\n",
    "    return comined_units_gen"
   ]
  },
  {
   "cell_type": "code",
   "execution_count": 27,
   "id": "27427777",
   "metadata": {},
   "outputs": [],
   "source": [
    "def create_model(x_train, y_train, x_val, y_val, epochs, model_name):\n",
    "    model = Sequential()\n",
    "    model.add(Masking(mask_value = -99., input_shape=(None, x_train.shape[2])))\n",
    "    model.add(LSTM(256, activation='sigmoid', return_sequences = True))\n",
    "    model.add(Dropout(0.1))\n",
    "    model.add(LSTM(128, activation='sigmoid'))\n",
    "    model.add(Dropout(0.1))\n",
    "    model.add(Dense(1, activation='sigmoid'))\n",
    "    \n",
    "    optimizer = Adam(lr=1e-3)\n",
    "    model.compile(loss='binary_crossentropy', optimizer = optimizer, metrics = ['accuracy'])\n",
    "    save_best_model = ModelCheckpoint('{}.hdf5'.format(model_name), save_best_only=True, monitor='val_loss', mode='min')\n",
    "    \n",
    "    #model.load_weights('simple_lstm_weights.h5')\n",
    "    history = model.fit(x_train, y_train,\n",
    "                        validation_data=(x_val, y_val),\n",
    "                        epochs=epochs,\n",
    "                        batch_size=128,\n",
    "                        callbacks = [save_best_model]\n",
    "                       )\n",
    "    return model, history"
   ]
  },
  {
   "cell_type": "code",
   "execution_count": 28,
   "id": "bf1d17c3",
   "metadata": {},
   "outputs": [],
   "source": [
    "def load_models(x_train, y_train, x_val, y_val, epochs, model_name):\n",
    "    model = load_model('{}.hdf5'.format(model_name))\n",
    "    save_best_model = ModelCheckpoint('{}.hdf5'.format(model_name), save_best_only=True, monitor='val_loss', mode='min')\n",
    "    history = model.fit(x_train, y_train,\n",
    "                        validation_data=(x_val, y_val),\n",
    "                        epochs=epochs,\n",
    "                        batch_size=128,\n",
    "                        callbacks = [save_best_model]\n",
    "                       )\n",
    "    return model, history"
   ]
  },
  {
   "cell_type": "code",
   "execution_count": 29,
   "id": "d4bdf4eb",
   "metadata": {},
   "outputs": [],
   "source": [
    "def plot_loss(history):\n",
    "    plt.figure(figsize=(13,5))\n",
    "    plt.plot(range(1, len(history.history['loss'])+1), history.history['loss'], label='train')\n",
    "    plt.plot(range(1, len(history.history['val_loss'])+1), history.history['val_loss'], label='validate')\n",
    "    plt.xlabel('Epochs')\n",
    "    plt.ylabel('Loss')\n",
    "    plt.legend()\n",
    "    plt.show()"
   ]
  },
  {
   "cell_type": "code",
   "execution_count": 30,
   "id": "2101be0a",
   "metadata": {},
   "outputs": [],
   "source": [
    "def evaluate(y_true, y_hat, label='test'):\n",
    "    mse = mean_squared_error(y_true, y_hat)\n",
    "    rmse = np.sqrt(mse)\n",
    "    variance = r2_score(y_true, y_hat)\n",
    "    print('{} set RMSE:{}, R2:{}'.format(label, rmse, variance))"
   ]
  },
  {
   "cell_type": "code",
   "execution_count": 31,
   "id": "a0bc20fa",
   "metadata": {},
   "outputs": [],
   "source": [
    "def plot_predictions(y_true, y_predicted):\n",
    "    plt.figure(figsize=(13,5))\n",
    "    plt.plot(y_true, label='true')\n",
    "    plt.plot(y_predicted, label='predicted')\n",
    "    plt.xlabel('Predictions')\n",
    "    plt.ylabel('Predicted Values')\n",
    "    plt.legend()\n",
    "    plt.show()"
   ]
  },
  {
   "cell_type": "code",
   "execution_count": 34,
   "id": "ffd4abdb",
   "metadata": {},
   "outputs": [],
   "source": [
    "def model_run(data, test_data, load, sequence_length, epochs, model_name):\n",
    "    \n",
    "    data = add_remaining_useful_life(data)\n",
    "    data['RUL'] = [1 if i < 20 else 0 for i in data['RUL']]\n",
    "    data = scale_data(data, scale_columns)\n",
    "    gss = GroupShuffleSplit(n_splits=1, train_size=0.80, random_state=1) \n",
    "    x_train, y_train, x_val, y_val = train_val_group_split(data.drop(['RUL'], axis = 1), data[['RUL', 'unit_no']], gss, data['unit_no'])\n",
    "    \n",
    "    generator_x_train = generator_training_wrapper(x_train, sequence_length, keep_columns)\n",
    "    generator_x_val = generator_training_wrapper(x_val, sequence_length, keep_columns)\n",
    "    \n",
    "    generator_y_train = generator_label_wrapper(y_train, sequence_length, ['RUL'])\n",
    "    generator_y_val = generator_label_wrapper(y_val, sequence_length, ['RUL'])\n",
    "    \n",
    "    \n",
    "    if(load == True):\n",
    "        model, history = load_models(generator_x_train, generator_y_train, generator_x_val, generator_y_val, epochs, model_name)\n",
    "    else:\n",
    "        model, history = create_model(generator_x_train, generator_y_train, generator_x_val, generator_y_val, epochs, model_name)\n",
    "    \n",
    "    plot_loss(history)\n",
    "    \n",
    "    test_data = scale_data(test_data, keep_columns)\n",
    "    generator_x_test = generator_test_wrapper(test_data, sequence_length, keep_columns)\n",
    "    \n",
    "    y_test['RUL'] = [1 if i < 20 else 0 for i in y_test['RUL']] \n",
    "    scores = model.evaluate(generator_x_test, y_test, verbose=0)\n",
    "    print(\"Accuracy: %.2f%%\" % (scores[1]*100))"
   ]
  },
  {
   "cell_type": "code",
   "execution_count": 35,
   "id": "fdec19ed",
   "metadata": {},
   "outputs": [
    {
     "name": "stdout",
     "output_type": "stream",
     "text": [
      "train_split_engines [  1   2   3   4   5   6   7   8   9  10  12  13  14  15  16  17  19  20\n",
      "  21  22  23  24  25  26  27  28  29  30  31  35  36  38  39  41  42  43\n",
      "  44  46  47  48  49  50  51  54  55  56  58  59  60  61  62  63  64  65\n",
      "  67  68  69  71  72  73  74  75  76  77  78  80  84  86  87  88  89  90\n",
      "  91  92  95  96  97  98  99 100]\n",
      "validate_split_engines [11 18 32 33 34 37 40 45 52 53 57 66 70 79 81 82 83 85 93 94] \n",
      "\n",
      "Train on 8743 samples, validate on 1988 samples\n",
      "Epoch 1/1\n",
      "8743/8743 [==============================] - 101s 12ms/step - loss: 0.4285 - accuracy: 0.8176 - val_loss: 0.4080 - val_accuracy: 0.7988\n"
     ]
    },
    {
     "data": {
      "image/png": "[encoded data removed]",
      "text/plain": [
       "<Figure size 936x360 with 1 Axes>"
      ]
     },
     "metadata": {
      "needs_background": "light"
     },
     "output_type": "display_data"
    },
    {
     "name": "stdout",
     "output_type": "stream",
     "text": [
      "Accuracy: 0.00%\n"
     ]
    }
   ],
   "source": [
    "epochs = 1\n",
    "sequence_length = 100\n",
    "#model_run(train, test, load = True, sequence_length = sequence_length, epochs = epochs, model_name = 'lstm_Azure')\n",
    "model_run(train, test, load = False, sequence_length = sequence_length, epochs = epochs, model_name = 'lstm_classification')"
   ]
  },
  {
   "cell_type": "code",
   "execution_count": null,
   "id": "36c82c9f",
   "metadata": {},
   "outputs": [],
   "source": []
  },
  {
   "cell_type": "code",
   "execution_count": null,
   "id": "98d0b5a8",
   "metadata": {},
   "outputs": [],
   "source": []
  }
 ],
 "metadata": {
  "kernelspec": {
   "display_name": "Python 3",
   "language": "python",
   "name": "python3"
  },
  "language_info": {
   "codemirror_mode": {
    "name": "ipython",
    "version": 3
   },
   "file_extension": ".py",
   "mimetype": "text/x-python",
   "name": "python",
   "nbconvert_exporter": "python",
   "pygments_lexer": "ipython3",
   "version": "3.6.13"
  }
 },
 "nbformat": 4,
 "nbformat_minor": 5
}
