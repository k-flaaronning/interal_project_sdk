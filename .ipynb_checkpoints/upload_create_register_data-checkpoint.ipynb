{
 "cells": [
  {
   "cell_type": "code",
   "execution_count": 1,
   "id": "f9648a35",
   "metadata": {},
   "outputs": [
    {
     "name": "stdout",
     "output_type": "stream",
     "text": [
      "Ready to use Azure ML SDK 1.26.0 to work with mlw_sdk\n"
     ]
    }
   ],
   "source": [
    "import azureml.core\n",
    "from azureml.core import Workspace\n",
    "\n",
    "#Load workspace from the saved config file\n",
    "try:\n",
    "     ws = Workspace.from_config()\n",
    "     print(\"Ready to use Azure ML SDK {} to work with {}\".format(azureml.core.VERSION, ws.name))\n",
    "except:\n",
    "     print(\"Could not load AML workspace\")"
   ]
  },
  {
   "cell_type": "code",
   "execution_count": 2,
   "id": "10235ab0",
   "metadata": {},
   "outputs": [
    {
     "name": "stdout",
     "output_type": "stream",
     "text": [
      "workspaceblobstore - Default = True\n",
      "workspacefilestore - Default = False\n"
     ]
    }
   ],
   "source": [
    "#Get the default datastore\n",
    "default_ds = ws.get_default_datastore()\n",
    "\n",
    "#Enumerate all datastores, indicating which is the default\n",
    "for ds_name in ws.datastores:\n",
    "    print(ds_name, \"- Default =\", ds_name == default_ds.name)"
   ]
  },
  {
   "cell_type": "code",
   "execution_count": 8,
   "id": "1e0e8907",
   "metadata": {},
   "outputs": [
    {
     "name": "stdout",
     "output_type": "stream",
     "text": [
      "Uploading an estimated of 2 files\n",
      "Uploading .\\data\\test_data.csv\n",
      "Uploaded .\\data\\test_data.csv, 1 files out of an estimated total of 2\n",
      "Uploading .\\data\\train_data.csv\n",
      "Uploaded .\\data\\train_data.csv, 2 files out of an estimated total of 2\n",
      "Uploaded 2 files\n",
      "Train and test data succesfully uploaded to datastore.\n"
     ]
    }
   ],
   "source": [
    "#Upload data to datastore\n",
    "#Train and test data are both stored in the \"data\" folder inside the datastore.\n",
    "\n",
    "name_train_data = 'train_data.csv' #Enter name of local train data\n",
    "name_test_data = 'test_data.csv' #Enter name of local test data\n",
    "try:\n",
    "    default_ds.upload_files(files=['.\\data\\{}'.format(name_train_data), '.\\data\\{}'.format(name_test_data)], target_path = 'data', overwrite = True, show_progress = True)\n",
    "    print(\"Train and test data succesfully uploaded to datastore.\")\n",
    "except:\n",
    "    print(\"Failed to uploaded train and test data.\")"
   ]
  },
  {
   "cell_type": "code",
   "execution_count": 9,
   "id": "827c37d2",
   "metadata": {},
   "outputs": [
    {
     "name": "stdout",
     "output_type": "stream",
     "text": [
      "Datasets registered\n"
     ]
    }
   ],
   "source": [
    "#Create a tabular dataset\n",
    "from azureml.core import Dataset\n",
    "\n",
    "try:\n",
    "    tab_dataset_train = Dataset.Tabular.from_delimited_files(path=(default_ds, 'data/{}'.format(name_train_data)))\n",
    "    tab_dataset_test = Dataset.Tabular.from_delimited_files(path=(default_ds, 'data/{}'.format(name_test_data)))\n",
    "except:\n",
    "    print(\"Failed to create a Tabular Dataset\")\n",
    "\n",
    "try:\n",
    "    tab_dataset_train = tab_dataset_train.register(workspace=ws, name= name_train_data, description='Optional', tags = {'format':'CSV'}, create_new_version=True)\n",
    "    tab_dataset_test = tab_dataset_test.register(workspace=ws, name= name_test_data, description='Optional', tags = {'format':'CSV'}, create_new_version=True)\n",
    "except Exception as ex:\n",
    "    print(ex)\n",
    "print('Datasets registered')"
   ]
  },
  {
   "cell_type": "code",
   "execution_count": 10,
   "id": "7524aa08",
   "metadata": {},
   "outputs": [
    {
     "name": "stdout",
     "output_type": "stream",
     "text": [
      "Datasets:\n",
      "\t test_data.csv version 1\n",
      "\t train_data.csv version 1\n"
     ]
    }
   ],
   "source": [
    "#Print all avail\n",
    "print(\"Datasets:\")\n",
    "for dataset_name in list(ws.datasets.keys()):\n",
    "    dataset = Dataset.get_by_name(ws, dataset_name)\n",
    "    print(\"\\t\", dataset.name, 'version', dataset.version)"
   ]
  },
  {
   "cell_type": "code",
   "execution_count": null,
   "id": "3dffec76",
   "metadata": {},
   "outputs": [],
   "source": []
  }
 ],
 "metadata": {
  "kernelspec": {
   "display_name": "Python 3",
   "language": "python",
   "name": "python3"
  },
  "language_info": {
   "codemirror_mode": {
    "name": "ipython",
    "version": 3
   },
   "file_extension": ".py",
   "mimetype": "text/x-python",
   "name": "python",
   "nbconvert_exporter": "python",
   "pygments_lexer": "ipython3",
   "version": "3.6.13"
  }
 },
 "nbformat": 4,
 "nbformat_minor": 5
}
