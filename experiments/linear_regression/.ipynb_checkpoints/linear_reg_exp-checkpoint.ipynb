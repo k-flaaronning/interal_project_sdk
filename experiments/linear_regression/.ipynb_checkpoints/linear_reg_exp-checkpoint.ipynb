{
 "cells": [
  {
   "cell_type": "code",
   "execution_count": 1,
   "id": "ec89d2b7",
   "metadata": {},
   "outputs": [
    {
     "name": "stdout",
     "output_type": "stream",
     "text": [
      "Ready to use Azure ML 1.26.0 to work with mlw_sdk\n"
     ]
    }
   ],
   "source": [
    "import azureml.core\n",
    "from azureml.core import Workspace\n",
    "\n",
    "# Load the workspace from the saved config file\n",
    "ws = Workspace.from_config()\n",
    "print('Ready to use Azure ML {} to work with {}'.format(azureml.core.VERSION, ws.name))"
   ]
  },
  {
   "cell_type": "code",
   "execution_count": 5,
   "id": "ba89856b",
   "metadata": {},
   "outputs": [
    {
     "name": "stdout",
     "output_type": "stream",
     "text": [
      "Datasets:\n",
      "\t feature_selected_train_FD001.csv version 1 ID a5e50b39-f65a-46b3-bcb5-664e2f7d7250\n",
      "\t feature_selected_test_FD001.csv version 1 ID 0bc4c13e-638b-48ad-a070-29bfc88faee0\n",
      "\t train_FD001.csv version 1 ID 3581f274-050c-49bb-99b7-a233646c6a1d\n",
      "\t test_FD001.csv version 2 ID 95ec0879-e965-4b91-9e37-4b2aeec852ef\n",
      "\t RUL_FD001.csv version 2 ID 549f56bd-c249-4602-bf96-ed07ee716af9\n"
     ]
    }
   ],
   "source": [
    "from azureml.core import Dataset\n",
    "print(\"Datasets:\")\n",
    "for dataset_name in list(ws.datasets.keys()):\n",
    "    dataset = Dataset.get_by_name(ws, dataset_name)\n",
    "    print(\"\\t\", dataset.name, 'version', dataset.version, 'ID', dataset.id)"
   ]
  },
  {
   "cell_type": "code",
   "execution_count": 11,
   "id": "9d993938",
   "metadata": {},
   "outputs": [
    {
     "name": "stdout",
     "output_type": "stream",
     "text": [
      "Starting experiment: linear_reg_exp\n",
      "Loading Data...\n",
      "Train set RMSE:39.57671741181994, R2:0.669857201860868\n",
      "Model trained and registered.\n"
     ]
    }
   ],
   "source": [
    "from azureml.core import Experiment\n",
    "from azureml.core import Model\n",
    "import pandas as pd\n",
    "import numpy as np\n",
    "import joblib\n",
    "from sklearn.metrics import mean_squared_error, r2_score\n",
    "from sklearn.preprocessing import MinMaxScaler\n",
    "from sklearn.linear_model import LinearRegression\n",
    "\n",
    "# Create an Azure ML experiment in your workspace\n",
    "experiment = Experiment(workspace=ws, name='linear_reg_exp')\n",
    "run = experiment.start_logging()\n",
    "print(\"Starting experiment:\", experiment.name)\n",
    "\n",
    "# load the diabetes dataset\n",
    "print(\"Loading Data...\")\n",
    "\n",
    "train = Dataset.get_by_id(ws, 'a5e50b39-f65a-46b3-bcb5-664e2f7d7250').to_pandas_dataframe()\n",
    "test = Dataset.get_by_id(ws, '0bc4c13e-638b-48ad-a070-29bfc88faee0').to_pandas_dataframe()\n",
    "y_test = Dataset.get_by_id(ws, '549f56bd-c249-4602-bf96-ed07ee716af9').to_pandas_dataframe()\n",
    "\n",
    "index_names = train.columns[[0, 1]]\n",
    "setting_names = train.columns[[2]]\n",
    "sensor_names = train.drop(index_names.union(setting_names), axis = 1).columns # Find something better than union!!\n",
    "scale_columns = sensor_names\n",
    "keep_columns = scale_columns.union(index_names[[1]])\n",
    "\n",
    "def scale_data(train, test, columns):\n",
    "    sc = MinMaxScaler()\n",
    "    scaled_train = train.copy()\n",
    "    scaled_test = test.copy()\n",
    "    scaled_train[columns] = pd.DataFrame(sc.fit_transform(scaled_train[columns]))\n",
    "    scaled_test[columns] = pd.DataFrame(sc.transform(scaled_test[columns]))\n",
    "    return scaled_train, scaled_test\n",
    "\n",
    "def add_remaining_useful_life(df):\n",
    "    grouped_by_unit = df.groupby(by=\"unit_no\")\n",
    "    max_cycle = grouped_by_unit[\"time_cycles\"].max()\n",
    "    \n",
    "    result_frame = df.merge(max_cycle.to_frame(name='max_cycle'), left_on='unit_no', right_index=True)\n",
    "    remaining_useful_life = result_frame[\"max_cycle\"] - result_frame[\"time_cycles\"]\n",
    "    result_frame[\"RUL\"] = remaining_useful_life\n",
    "    \n",
    "    result_frame = result_frame.drop(\"max_cycle\", axis=1)\n",
    "    return result_frame\n",
    "\n",
    "def evaluate(y_true, y_hat, label):\n",
    "    mse = mean_squared_error(y_true, y_hat)\n",
    "    rmse = np.sqrt(mse)\n",
    "    variance = r2_score(y_true, y_hat)\n",
    "    print('{} set RMSE:{}, R2:{}'.format(label, rmse, variance))\n",
    "    return rmse, variance\n",
    "    \n",
    "x_train = add_remaining_useful_life(train)\n",
    "y_train = x_train.pop('RUL')\n",
    "x_test = test.groupby(by=\"unit_no\").last().reset_index()\n",
    "x_train_scaled, x_test_scaled = scale_data(x_train, x_test, scale_columns)\n",
    "\n",
    "reg = LinearRegression()\n",
    "reg.fit(x_train_scaled, y_train)\n",
    "y_hat_train = reg.predict(x_train_scaled)\n",
    "eva = evaluate(y_train, y_hat_train, 'Train')\n",
    "\n",
    "run.log('RMSE', np.float(eva[0]))\n",
    "run.log('R2', np.float(eva[1]))\n",
    "\n",
    "# Save the trained model\n",
    "model_file = 'linear_reg.pkl'\n",
    "joblib.dump(value=reg, filename=model_file)\n",
    "run.upload_file(name = 'outputs/' + model_file, path_or_stream = './' + model_file)\n",
    "\n",
    "# Complete the run\n",
    "run.complete()\n",
    "\n",
    "# Register the model\n",
    "run.register_model(model_path='outputs/linear_reg.pkl', model_name='linear_reg',\n",
    "                   properties={'RMSE': run.get_metrics()['RMSE'], 'R2': run.get_metrics()['R2']})\n",
    "\n",
    "print('Model trained and registered.')"
   ]
  },
  {
   "cell_type": "code",
   "execution_count": null,
   "id": "215f4dd8",
   "metadata": {},
   "outputs": [],
   "source": []
  }
 ],
 "metadata": {
  "kernelspec": {
   "display_name": "Python 3",
   "language": "python",
   "name": "python3"
  },
  "language_info": {
   "codemirror_mode": {
    "name": "ipython",
    "version": 3
   },
   "file_extension": ".py",
   "mimetype": "text/x-python",
   "name": "python",
   "nbconvert_exporter": "python",
   "pygments_lexer": "ipython3",
   "version": "3.6.13"
  }
 },
 "nbformat": 4,
 "nbformat_minor": 5
}
