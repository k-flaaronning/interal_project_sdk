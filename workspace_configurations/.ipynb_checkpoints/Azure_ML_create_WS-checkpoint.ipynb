{
 "cells": [
  {
   "cell_type": "code",
   "execution_count": 1,
   "id": "c56893e0",
   "metadata": {},
   "outputs": [
    {
     "name": "stdout",
     "output_type": "stream",
     "text": [
      "1.26.0\n"
     ]
    }
   ],
   "source": [
    "import azureml.core\n",
    "print(azureml.core.VERSION)"
   ]
  },
  {
   "cell_type": "code",
   "execution_count": 3,
   "id": "81836563",
   "metadata": {},
   "outputs": [
    {
     "name": "stdout",
     "output_type": "stream",
     "text": [
      "Performing interactive authentication. Please follow the instructions on the terminal.\n"
     ]
    },
    {
     "name": "stderr",
     "output_type": "stream",
     "text": [
      "Note, we have launched a browser for you to login. For old experience with device code, use \"az login --use-device-code\"\n"
     ]
    },
    {
     "name": "stdout",
     "output_type": "stream",
     "text": [
      "You have logged in. Now let us find all the subscriptions to which you have access...\n",
      "Interactive authentication successfully completed.\n",
      "Deploying AppInsights with name mlwsdkinsights0fd3bab1b1.\n",
      "Deployed AppInsights with name mlwsdkinsights0fd3bab1b1. Took 3.4 seconds.\n",
      "Deploying KeyVault with name mlwsdkkeyvaulte891f06fb4.\n",
      "Deploying StorageAccount with name mlwsdkstorage8e08cc56a99.\n",
      "Deployed KeyVault with name mlwsdkkeyvaulte891f06fb4. Took 18.67 seconds.\n",
      "Deployed StorageAccount with name mlwsdkstorage8e08cc56a99. Took 21.71 seconds.\n",
      "Deploying Workspace with name mlw_sdk.\n",
      "Deployed Workspace with name mlw_sdk. Took 22.18 seconds.\n"
     ]
    }
   ],
   "source": [
    "from azureml.core import Workspace\n",
    "ws = Workspace.create(name='mlw_sdk',\n",
    "                     subscription_id='bb345bae-e66f-461d-a1fe-67219d54a0f3',\n",
    "                     resource_group='rg-sandbox-kolbjorn',\n",
    "                     location='North Europe')"
   ]
  },
  {
   "cell_type": "code",
   "execution_count": 5,
   "id": "fd8f185f",
   "metadata": {
    "collapsed": true
   },
   "outputs": [
    {
     "data": {
      "text/plain": [
       "{'id': '/subscriptions/bb345bae-e66f-461d-a1fe-67219d54a0f3/resourceGroups/rg-sandbox-kolbjorn/providers/Microsoft.MachineLearningServices/workspaces/mlw_sdk',\n",
       " 'name': 'mlw_sdk',\n",
       " 'identity': {'principal_id': '9efb86f1-8354-40b3-8c15-c3ccb7148cdb',\n",
       "  'tenant_id': '40cc2915-e283-4a27-9471-6bdd7ca4c6e1',\n",
       "  'type': 'SystemAssigned'},\n",
       " 'location': 'northeurope',\n",
       " 'type': 'Microsoft.MachineLearningServices/workspaces',\n",
       " 'sku': 'Basic',\n",
       " 'workspaceid': '63b73c75-1597-4457-8211-22b97a41dbd5',\n",
       " 'sdkTelemetryAppInsightsKey': 'aea5acff-0312-49cc-a3e2-8a4470df11d5',\n",
       " 'description': '',\n",
       " 'friendlyName': 'mlw_sdk',\n",
       " 'creationTime': '2021-04-09T10:05:58.8963326+00:00',\n",
       " 'containerRegistry': '',\n",
       " 'keyVault': '/subscriptions/bb345bae-e66f-461d-a1fe-67219d54a0f3/resourcegroups/rg-sandbox-kolbjorn/providers/microsoft.keyvault/vaults/mlwsdkkeyvaulte891f06fb4',\n",
       " 'applicationInsights': '/subscriptions/bb345bae-e66f-461d-a1fe-67219d54a0f3/resourcegroups/rg-sandbox-kolbjorn/providers/microsoft.insights/components/mlwsdkinsights0fd3bab1b1',\n",
       " 'storageAccount': '/subscriptions/bb345bae-e66f-461d-a1fe-67219d54a0f3/resourcegroups/rg-sandbox-kolbjorn/providers/microsoft.storage/storageaccounts/mlwsdkstorage8e08cc56a99',\n",
       " 'hbiWorkspace': False,\n",
       " 'allowPublicAccessWhenBehindVnet': False,\n",
       " 'provisioningState': 'Succeeded',\n",
       " 'imageBuildCompute': '',\n",
       " 'discoveryUrl': 'https://northeurope.experiments.azureml.net/discovery',\n",
       " 'notebookInfo': {'fqdn': 'ml-mlwsdk-northeurope-63b73c75-1597-4457-8211-22b97a41dbd5.notebooks.azure.net',\n",
       "  'resource_id': '8e3b1e311b664126940895d3788edab9'}}"
      ]
     },
     "execution_count": 5,
     "metadata": {},
     "output_type": "execute_result"
    }
   ],
   "source": [
    "ws.get_details()"
   ]
  },
  {
   "cell_type": "code",
   "execution_count": 6,
   "id": "e516394c",
   "metadata": {},
   "outputs": [],
   "source": [
    "ws.write_config()"
   ]
  },
  {
   "cell_type": "code",
   "execution_count": null,
   "id": "2e357d94",
   "metadata": {},
   "outputs": [],
   "source": []
  },
  {
   "cell_type": "code",
   "execution_count": null,
   "id": "26fe98bf",
   "metadata": {},
   "outputs": [],
   "source": []
  }
 ],
 "metadata": {
  "kernelspec": {
   "display_name": "Python 3",
   "language": "python",
   "name": "python3"
  },
  "language_info": {
   "codemirror_mode": {
    "name": "ipython",
    "version": 3
   },
   "file_extension": ".py",
   "mimetype": "text/x-python",
   "name": "python",
   "nbconvert_exporter": "python",
   "pygments_lexer": "ipython3",
   "version": "3.6.13"
  }
 },
 "nbformat": 4,
 "nbformat_minor": 5
}
