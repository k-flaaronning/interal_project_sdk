{
 "cells": [
  {
   "cell_type": "code",
   "execution_count": 15,
   "id": "b335e854",
   "metadata": {},
   "outputs": [
    {
     "name": "stdout",
     "output_type": "stream",
     "text": [
      "Ready to use Azure ML SDK 1.26.0 to work with mlw_sdk\n"
     ]
    }
   ],
   "source": [
    "import azureml.core\n",
    "from azureml.core import Workspace\n",
    "\n",
    "#Load workspace from the saved config file\n",
    "try:\n",
    "     ws = Workspace.from_config()\n",
    "     print(\"Ready to use Azure ML SDK {} to work with {}\".format(azureml.core.VERSION, ws.name))\n",
    "except:\n",
    "     print(\"Could not load AML workspace\")"
   ]
  },
  {
   "cell_type": "code",
   "execution_count": 16,
   "id": "7956fb5e",
   "metadata": {},
   "outputs": [
    {
     "name": "stdout",
     "output_type": "stream",
     "text": [
      "azureml_globaldatasets - Default = False\n",
      "workspaceblobstore - Default = True\n",
      "workspacefilestore - Default = False\n"
     ]
    }
   ],
   "source": [
    "#Get the default datastore\n",
    "default_ds = ws.get_default_datastore()\n",
    "\n",
    "#Enumerate all datastores, indicating which is the default\n",
    "for ds_name in ws.datastores:\n",
    "    print(ds_name, \"- Default =\", ds_name == default_ds.name)"
   ]
  },
  {
   "cell_type": "markdown",
   "id": "5bd866e1",
   "metadata": {},
   "source": [
    "## Uploading all data files into default data storage (blob), create and register tabular datasets"
   ]
  },
  {
   "cell_type": "code",
   "execution_count": 17,
   "id": "f957682c",
   "metadata": {},
   "outputs": [
    {
     "name": "stdout",
     "output_type": "stream",
     "text": [
      "Uploading an estimated of 1 files\n",
      "Uploading ..\\..\\data\\OG_data\\RUL_FD001.csv\n",
      "Uploaded ..\\..\\data\\OG_data\\RUL_FD001.csv, 1 files out of an estimated total of 1\n",
      "Uploaded 1 files\n",
      "RUL_FD001.csv has been succesfully uploaded to datastore.\n",
      "\n",
      "Datasets registered\n",
      "\n",
      "Uploading an estimated of 1 files\n",
      "Uploading ..\\..\\data\\OG_data\\test_FD001.csv\n",
      "Uploaded ..\\..\\data\\OG_data\\test_FD001.csv, 1 files out of an estimated total of 1\n",
      "Uploaded 1 files\n",
      "test_FD001.csv has been succesfully uploaded to datastore.\n",
      "\n",
      "Datasets registered\n",
      "\n",
      "Uploading an estimated of 1 files\n",
      "Uploading ..\\..\\data\\OG_data\\train_FD001.csv\n",
      "Uploaded ..\\..\\data\\OG_data\\train_FD001.csv, 1 files out of an estimated total of 1\n",
      "Uploaded 1 files\n",
      "train_FD001.csv has been succesfully uploaded to datastore.\n",
      "\n",
      "Datasets registered\n",
      "\n"
     ]
    }
   ],
   "source": [
    "import os\n",
    "from azureml.core import Dataset\n",
    "\n",
    "directory = '..\\..\\data\\OG_data'\n",
    "for filename in os.listdir(directory):\n",
    "    if filename.endswith(\".txt\") or filename.endswith(\".csv\"):\n",
    "        try:\n",
    "            default_ds.upload_files(files=['{}\\{}'.format(directory,filename)], target_path = 'data\\OG_data', overwrite = True, show_progress = True)\n",
    "            print(\"{} has been succesfully uploaded to datastore.\\n\".format(filename))\n",
    "        except:\n",
    "            print(\"Failed to upload {}.\\n\".format(filename))\n",
    "        \n",
    "        try:\n",
    "            tabular_data = Dataset.Tabular.from_delimited_files(path=(default_ds, 'data/OG_data/{}'.format(filename)))\n",
    "        except:\n",
    "            print(\"Failed to create a Tabular Dataset\")\n",
    "\n",
    "        try:\n",
    "            registered_dataset = tabular_data.register(workspace=ws, name= filename, description='Optional', tags = {'format':'CSV'}, create_new_version=True)\n",
    "        except Exception as ex:\n",
    "            print(ex)\n",
    "        print('Datasets registered\\n')\n",
    "        \n",
    "    continue"
   ]
  },
  {
   "cell_type": "code",
   "execution_count": 18,
   "id": "a2b1125a",
   "metadata": {},
   "outputs": [
    {
     "name": "stdout",
     "output_type": "stream",
     "text": [
      "Datasets:\n",
      "\t train_FD001.csv version 1\n",
      "\t test_FD001.csv version 1\n",
      "\t RUL_FD001.csv version 1\n",
      "\t train_FD001.txt version 1\n",
      "\t test_FD001.txt version 1\n",
      "\t RUL_FD001.txt version 1\n"
     ]
    }
   ],
   "source": [
    "#Print all avail\n",
    "print(\"Datasets:\")\n",
    "for dataset_name in list(ws.datasets.keys()):\n",
    "    dataset = Dataset.get_by_name(ws, dataset_name)\n",
    "    print(\"\\t\", dataset.name, 'version', dataset.version)"
   ]
  },
  {
   "cell_type": "markdown",
   "id": "ade2af23",
   "metadata": {},
   "source": [
    "## Manual upload and dataset registration"
   ]
  },
  {
   "cell_type": "code",
   "execution_count": 3,
   "id": "46fbb596",
   "metadata": {},
   "outputs": [
    {
     "name": "stdout",
     "output_type": "stream",
     "text": [
      "Uploading an estimated of 2 files\n",
      "Uploading ..\\..\\data\\test_data.csv\n",
      "Uploaded ..\\..\\data\\test_data.csv, 1 files out of an estimated total of 2\n",
      "Uploading ..\\..\\data\\train_data.csv\n",
      "Uploaded ..\\..\\data\\train_data.csv, 2 files out of an estimated total of 2\n",
      "Uploaded 2 files\n",
      "Train and test data succesfully uploaded to datastore.\n"
     ]
    }
   ],
   "source": [
    "#Upload data to datastore\n",
    "#Train and test data are both stored in the \"data\" folder inside the datastore.\n",
    "\n",
    "name_train_data = 'train_data.csv' #Enter name of local train data\n",
    "name_test_data = 'test_data.csv' #Enter name of local test data\n",
    "try:\n",
    "    default_ds.upload_files(files=['..\\..\\data\\OG_data\\{}'.format(name_train_data), '..\\..\\data\\{}'.format(name_test_data)], target_path = 'data', overwrite = True, show_progress = True)\n",
    "    print(\"Train and test data succesfully uploaded to datastore.\")\n",
    "except:\n",
    "    print(\"Failed to uploaded train and test data.\")\n",
    "    \n"
   ]
  },
  {
   "cell_type": "code",
   "execution_count": 4,
   "id": "c723efe7",
   "metadata": {},
   "outputs": [
    {
     "name": "stdout",
     "output_type": "stream",
     "text": [
      "Datasets registered\n"
     ]
    }
   ],
   "source": [
    "#Create a tabular dataset\n",
    "\n",
    "from azureml.core import Dataset\n",
    "try:\n",
    "    tab_dataset_train = Dataset.Tabular.from_delimited_files(path=(default_ds, 'data/{}'.format(name_train_data)))\n",
    "    tab_dataset_test = Dataset.Tabular.from_delimited_files(path=(default_ds, 'data/{}'.format(name_test_data)))\n",
    "except:\n",
    "    print(\"Failed to create a Tabular Dataset\")\n",
    "\n",
    "try:\n",
    "    tab_dataset_train = tab_dataset_train.register(workspace=ws, name= name_train_data, description='Optional', tags = {'format':'CSV'}, create_new_version=True)\n",
    "    tab_dataset_test = tab_dataset_test.register(workspace=ws, name= name_test_data, description='Optional', tags = {'format':'CSV'}, create_new_version=True)\n",
    "except Exception as ex:\n",
    "    print(ex)\n",
    "print('Datasets registered')"
   ]
  },
  {
   "cell_type": "code",
   "execution_count": null,
   "id": "952573f7",
   "metadata": {},
   "outputs": [],
   "source": []
  }
 ],
 "metadata": {
  "kernelspec": {
   "display_name": "Python 3",
   "language": "python",
   "name": "python3"
  },
  "language_info": {
   "codemirror_mode": {
    "name": "ipython",
    "version": 3
   },
   "file_extension": ".py",
   "mimetype": "text/x-python",
   "name": "python",
   "nbconvert_exporter": "python",
   "pygments_lexer": "ipython3",
   "version": "3.6.13"
  }
 },
 "nbformat": 4,
 "nbformat_minor": 5
}
