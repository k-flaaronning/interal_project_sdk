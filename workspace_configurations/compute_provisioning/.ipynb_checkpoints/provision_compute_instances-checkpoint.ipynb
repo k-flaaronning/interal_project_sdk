{
 "cells": [
  {
   "cell_type": "code",
   "execution_count": 1,
   "id": "5bf6f3f7",
   "metadata": {},
   "outputs": [
    {
     "name": "stdout",
     "output_type": "stream",
     "text": [
      "Ready to use Azure ML SDK 1.26.0 to work with mlw_sdk\n"
     ]
    }
   ],
   "source": [
    "import azureml.core\n",
    "from azureml.core import Workspace\n",
    "\n",
    "#Load workspace from the saved config file\n",
    "try:\n",
    "     ws = Workspace.from_config()\n",
    "     print(\"Ready to use Azure ML SDK {} to work with {}\".format(azureml.core.VERSION, ws.name))\n",
    "except:\n",
    "     print(\"Could not load AML workspace\")"
   ]
  },
  {
   "cell_type": "code",
   "execution_count": 3,
   "id": "a6bc8b75",
   "metadata": {},
   "outputs": [
    {
     "name": "stdout",
     "output_type": "stream",
     "text": [
      "\n",
      "Creating........................\n",
      "Running\n"
     ]
    }
   ],
   "source": [
    "import datetime\n",
    "import time\n",
    "\n",
    "from azureml.core.compute import ComputeTarget, ComputeInstance\n",
    "from azureml.core.compute_target import ComputeTargetException\n",
    "\n",
    "# Choose a name for your instance\n",
    "# Compute instance name should be unique across the azure region\n",
    "compute_name = \"Standard_D3_V2{}\".format(ws._workspace_id)[:5]\n",
    "\n",
    "# Verify that instance does not exist already\n",
    "try:\n",
    "    instance = ComputeInstance(workspace=ws, name=compute_name)\n",
    "    print('Found existing instance, use it.')\n",
    "except ComputeTargetException:\n",
    "    compute_config = ComputeInstance.provisioning_configuration(\n",
    "        vm_size='STANDARD_D3_V2',\n",
    "        ssh_public_access=False,\n",
    "        # vnet_resourcegroup_name='<my-resource-group>',\n",
    "        # vnet_name='<my-vnet-name>',\n",
    "        # subnet_name='default',\n",
    "        # admin_user_ssh_public_key='<my-sshkey>'\n",
    "    )\n",
    "    instance = ComputeInstance.create(ws, compute_name, compute_config)\n",
    "    instance.wait_for_completion(show_output=True)"
   ]
  },
  {
   "cell_type": "code",
   "execution_count": null,
   "id": "584da3fe",
   "metadata": {},
   "outputs": [],
   "source": []
  }
 ],
 "metadata": {
  "kernelspec": {
   "display_name": "Python 3",
   "language": "python",
   "name": "python3"
  },
  "language_info": {
   "codemirror_mode": {
    "name": "ipython",
    "version": 3
   },
   "file_extension": ".py",
   "mimetype": "text/x-python",
   "name": "python",
   "nbconvert_exporter": "python",
   "pygments_lexer": "ipython3",
   "version": "3.6.13"
  }
 },
 "nbformat": 4,
 "nbformat_minor": 5
}
