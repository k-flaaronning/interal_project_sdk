{
 "cells": [
  {
   "cell_type": "code",
   "execution_count": 8,
   "id": "38255144",
   "metadata": {},
   "outputs": [
    {
     "name": "stdout",
     "output_type": "stream",
     "text": [
      "Ready to use Azure ML SDK 1.26.0 to work with mlw_sdk\n"
     ]
    }
   ],
   "source": [
    "import azureml.core\n",
    "from azureml.core import Workspace\n",
    "\n",
    "#Load workspace from the saved config file\n",
    "try:\n",
    "     ws = Workspace.from_config()\n",
    "     print(\"Ready to use Azure ML SDK {} to work with {}\".format(azureml.core.VERSION, ws.name))\n",
    "except:\n",
    "     print(\"Could not load AML workspace\")"
   ]
  },
  {
   "cell_type": "code",
   "execution_count": 12,
   "id": "cd85d591",
   "metadata": {},
   "outputs": [
    {
     "name": "stdout",
     "output_type": "stream",
     "text": [
      "Configuration ready.\n",
      "Environment registered.\n"
     ]
    }
   ],
   "source": [
    "from azureml.core import Environment\n",
    "from azureml.core.runconfig import DEFAULT_CPU_IMAGE\n",
    "from azureml.core.runconfig import CondaDependencies\n",
    "\n",
    "# Add dependencies required by the model\n",
    "# For scikit-learn models, you need scikit-learn\n",
    "# For parallel pipeline steps, you need azureml-core and azureml-dataprep[fuse]\n",
    "cd = CondaDependencies.create(conda_packages=['scikit-learn','pip', 'numpy', 'pandas', 'matplotlib'],\n",
    "                              pip_packages=['azureml-defaults'])\n",
    "\n",
    "sklearn_env = Environment(name='sklearn_env')\n",
    "sklearn_env.python.conda_dependencies = cd\n",
    "#sklearn_env.docker.enabled = True\n",
    "#sklearn_env.docker.base_image = DEFAULT_CPU_IMAGE\n",
    "print('Configuration ready.')\n",
    "sklearn_env.register(ws)\n",
    "print('Environment registered.')"
   ]
  },
  {
   "cell_type": "code",
   "execution_count": null,
   "id": "64d3a895",
   "metadata": {},
   "outputs": [],
   "source": []
  }
 ],
 "metadata": {
  "kernelspec": {
   "display_name": "Python 3",
   "language": "python",
   "name": "python3"
  },
  "language_info": {
   "codemirror_mode": {
    "name": "ipython",
    "version": 3
   },
   "file_extension": ".py",
   "mimetype": "text/x-python",
   "name": "python",
   "nbconvert_exporter": "python",
   "pygments_lexer": "ipython3",
   "version": "3.6.13"
  }
 },
 "nbformat": 4,
 "nbformat_minor": 5
}
