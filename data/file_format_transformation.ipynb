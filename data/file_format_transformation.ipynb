{
 "cells": [
  {
   "cell_type": "code",
   "execution_count": 1,
   "id": "5b44652a",
   "metadata": {},
   "outputs": [],
   "source": [
    "%matplotlib inline\n",
    "import pandas as pd\n",
    "import numpy as np"
   ]
  },
  {
   "cell_type": "code",
   "execution_count": 2,
   "id": "67b17750",
   "metadata": {},
   "outputs": [],
   "source": [
    "index_names = ['unit_no', 'time_cycles']\n",
    "setting_names = ['setting_1', 'setting_2', 'setting_3']\n",
    "sensor_names = ['s_{}'.format(i) for i in range(1,22)]\n",
    "col_names = index_names + setting_names + sensor_names\n",
    "\n",
    "train = pd.read_csv('./OG_data/train_FD001.txt', sep='\\s', header=None, names = col_names, engine='python')\n",
    "test = pd.read_csv('./OG_data/test_FD001.txt', sep='\\s', header=None, names = col_names, engine='python')\n",
    "y_test = pd.read_csv('./OG_data/RUL_FD001.txt', sep='\\s', header=None, names = ['RUL'], engine='python')"
   ]
  },
  {
   "cell_type": "code",
   "execution_count": 3,
   "id": "23e8909e",
   "metadata": {},
   "outputs": [],
   "source": [
    "train.to_csv('./train_FD001.csv',header = True, sep = ',', index = False)\n",
    "test.to_csv('./test_FD001.csv',header = True, sep = ',', index = False)\n",
    "y_test.to_csv('./RUL_FD001.csv',header = True, sep = ',', index = False)\n"
   ]
  },
  {
   "cell_type": "code",
   "execution_count": null,
   "id": "94f411c1",
   "metadata": {},
   "outputs": [],
   "source": []
  }
 ],
 "metadata": {
  "kernelspec": {
   "display_name": "Python 3",
   "language": "python",
   "name": "python3"
  },
  "language_info": {
   "codemirror_mode": {
    "name": "ipython",
    "version": 3
   },
   "file_extension": ".py",
   "mimetype": "text/x-python",
   "name": "python",
   "nbconvert_exporter": "python",
   "pygments_lexer": "ipython3",
   "version": "3.6.13"
  }
 },
 "nbformat": 4,
 "nbformat_minor": 5
}
