{
 "cells": [
  {
   "cell_type": "code",
   "execution_count": 1,
   "id": "0586b459",
   "metadata": {},
   "outputs": [
    {
     "name": "stdout",
     "output_type": "stream",
     "text": [
      "Ready to use Azure ML 1.26.0 to work with mlw_sdk\n"
     ]
    }
   ],
   "source": [
    "import azureml.core\n",
    "from azureml.core import Workspace\n",
    "\n",
    "# Load the workspace from the saved config file\n",
    "ws = Workspace.from_config()\n",
    "print('Ready to use Azure ML {} to work with {}'.format(azureml.core.VERSION, ws.name))"
   ]
  },
  {
   "cell_type": "code",
   "execution_count": null,
   "id": "ce5700b5",
   "metadata": {},
   "outputs": [],
   "source": [
    "if False:\n",
    "    from azureml.core import Datastore, Dataset\n",
    "    import pandas as pd\n",
    "    import os\n",
    "\n",
    "    # Set default data store\n",
    "    #ws.set_default_datastore('workspaceblobstore')\n",
    "    default_ds = ws.get_default_datastore()\n",
    "\n",
    "    # Enumerate all datastores, indicating which is the default\n",
    "    for ds_name in ws.datastores:\n",
    "        print(ds_name, \"- Default =\", ds_name == default_ds.name)\n",
    "\n",
    "    # Load the diabetes data\n",
    "    test = Dataset.get_by_id(ws, '0bc4c13e-638b-48ad-a070-29bfc88faee0').to_pandas_dataframe()\n",
    "    \n",
    "    # Get a 100-item sample of the feature columns (not the diabetic label)\n",
    "    \n",
    "\n",
    "    # Create a folder\n",
    "    batch_folder = './batch-data'\n",
    "    os.makedirs(batch_folder, exist_ok=True)\n",
    "    print(\"Folder created!\")\n",
    "\n",
    "    # Save each sample as a separate file\n",
    "    print(\"Saving files...\")\n",
    "    for i in range(100):\n",
    "        fname = str(i+1) + '.csv'\n",
    "        sample[i].tofile(os.path.join(batch_folder, fname), sep=\",\")\n",
    "    print(\"files saved!\")\n",
    "\n",
    "    # Upload the files to the default datastore\n",
    "    print(\"Uploading files to datastore...\")\n",
    "    default_ds = ws.get_default_datastore()\n",
    "    default_ds.upload(src_dir=\"batch-data\", target_path=\"batch-data\", overwrite=True, show_progress=True)\n",
    "\n",
    "    # Register a dataset for the input data\n",
    "    batch_data_set = Dataset.File.from_files(path=(default_ds, 'batch-data/'), validate=False)\n",
    "    try:\n",
    "        batch_data_set = batch_data_set.register(workspace=ws, \n",
    "                                                 name='batch-data',\n",
    "                                                 description='batch data',\n",
    "                                                 create_new_version=True)\n",
    "    except Exception as ex:\n",
    "        print(ex)\n",
    "\n",
    "    print(\"Done!\")"
   ]
  },
  {
   "cell_type": "code",
   "execution_count": null,
   "id": "4db17490",
   "metadata": {},
   "outputs": [],
   "source": [
    "%%writefile $batch_lin_reg.py\n",
    "import os\n",
    "import numpy as np\n",
    "from azureml.core import Model\n",
    "import joblib\n",
    "\n",
    "\n",
    "def init():\n",
    "    # Runs when the pipeline step is initialized\n",
    "    global model\n",
    "\n",
    "    # load the model\n",
    "    model_path = Model.get_model_path('linear_reg.pkl')\n",
    "    model = joblib.load(model_path)\n",
    "\n",
    "\n",
    "def run(mini_batch):\n",
    "    # This runs for each batch\n",
    "    resultList = []\n",
    "\n",
    "    # process each file in the batch\n",
    "    for f in mini_batch:\n",
    "        # Read the comma-delimited data into an array\n",
    "        data = np.genfromtxt(f, delimiter=',')\n",
    "        # Reshape into a 2-dimensional array for prediction (model expects multiple items)\n",
    "        prediction = model.predict(data.reshape(1, -1))\n",
    "        # Append prediction to results\n",
    "        resultList.append(\"{}: {}\".format(os.path.basename(f), prediction[0]))\n",
    "    return resultList"
   ]
  }
 ],
 "metadata": {
  "kernelspec": {
   "display_name": "Python 3",
   "language": "python",
   "name": "python3"
  },
  "language_info": {
   "codemirror_mode": {
    "name": "ipython",
    "version": 3
   },
   "file_extension": ".py",
   "mimetype": "text/x-python",
   "name": "python",
   "nbconvert_exporter": "python",
   "pygments_lexer": "ipython3",
   "version": "3.6.13"
  }
 },
 "nbformat": 4,
 "nbformat_minor": 5
}
